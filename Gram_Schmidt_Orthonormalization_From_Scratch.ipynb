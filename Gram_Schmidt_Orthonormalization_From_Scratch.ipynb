{
  "nbformat": 4,
  "nbformat_minor": 0,
  "metadata": {
    "colab": {
      "provenance": [],
      "authorship_tag": "ABX9TyOhSK+w9tr6io98RrxJPec5",
      "include_colab_link": true
    },
    "kernelspec": {
      "name": "python3",
      "display_name": "Python 3"
    },
    "language_info": {
      "name": "python"
    }
  },
  "cells": [
    {
      "cell_type": "markdown",
      "metadata": {
        "id": "view-in-github",
        "colab_type": "text"
      },
      "source": [
        "<a href=\"https://colab.research.google.com/github/emmacreen/Math242-Linear-Algebra-Code-Projects/blob/main/Gram_Schmidt_Orthonormalization_From_Scratch.ipynb\" target=\"_parent\"><img src=\"https://colab.research.google.com/assets/colab-badge.svg\" alt=\"Open In Colab\"/></a>"
      ]
    },
    {
      "cell_type": "code",
      "execution_count": null,
      "metadata": {
        "id": "lRY3eeCe0Qtv"
      },
      "outputs": [],
      "source": [
        "import matplotlib.pyplot as plt\n",
        "from sympy import Poly\n",
        "import sympy as sym\n",
        "import numpy as np\n",
        "from numpy import c_\n",
        "\n",
        "# We'll specify that x and t are variables:\n",
        "x, t = sym.symbols('x, t')\n",
        "\n",
        "ll = \"loaded\""
      ]
    },
    {
      "cell_type": "markdown",
      "source": [
        "Let's figure out how to do vector operations:"
      ],
      "metadata": {
        "id": "TW07YUrc1cBv"
      }
    },
    {
      "cell_type": "code",
      "source": [
        "#create a vector:\n",
        "r1=np.array([1,2,3])\n",
        "r1"
      ],
      "metadata": {
        "colab": {
          "base_uri": "https://localhost:8080/"
        },
        "id": "a67sWkdv1bkX",
        "outputId": "0f84422b-9e80-4742-ecaf-8e31f44d296c"
      },
      "execution_count": null,
      "outputs": [
        {
          "output_type": "execute_result",
          "data": {
            "text/plain": [
              "array([1, 2, 3])"
            ]
          },
          "metadata": {},
          "execution_count": 2
        }
      ]
    },
    {
      "cell_type": "code",
      "source": [
        "#vector arithmetic:\n",
        "-3 * r1"
      ],
      "metadata": {
        "colab": {
          "base_uri": "https://localhost:8080/"
        },
        "id": "TmqJPQiz1Wv0",
        "outputId": "9ac10ceb-e93b-438c-deda-cfcae22a8708"
      },
      "execution_count": null,
      "outputs": [
        {
          "output_type": "execute_result",
          "data": {
            "text/plain": [
              "array([-3, -6, -9])"
            ]
          },
          "metadata": {},
          "execution_count": 3
        }
      ]
    },
    {
      "cell_type": "code",
      "source": [
        "#vector dot products:\n",
        "r1.dot(r1)"
      ],
      "metadata": {
        "colab": {
          "base_uri": "https://localhost:8080/"
        },
        "id": "j4siwjGU1WqH",
        "outputId": "70d88a36-0f7e-4a93-b3f0-b3c90124578b"
      },
      "execution_count": null,
      "outputs": [
        {
          "output_type": "execute_result",
          "data": {
            "text/plain": [
              "14"
            ]
          },
          "metadata": {},
          "execution_count": 4
        }
      ]
    },
    {
      "cell_type": "code",
      "source": [
        "#need the square root\n",
        "#sqrt(14)\n",
        "(14)**(0.5)\n",
        "np.sqrt(14)"
      ],
      "metadata": {
        "colab": {
          "base_uri": "https://localhost:8080/"
        },
        "id": "Y-4eewOE3l3s",
        "outputId": "0bedc438-9f04-4de4-b3d8-4840dccdcfd0"
      },
      "execution_count": null,
      "outputs": [
        {
          "output_type": "execute_result",
          "data": {
            "text/plain": [
              "3.7416573867739413"
            ]
          },
          "metadata": {},
          "execution_count": 5
        }
      ]
    },
    {
      "cell_type": "code",
      "source": [
        "#magnitude of vector r1:\n",
        "np.sqrt(r1.dot(r1))"
      ],
      "metadata": {
        "id": "B3yvVBv538YY",
        "colab": {
          "base_uri": "https://localhost:8080/"
        },
        "outputId": "9f29216e-7166-46b3-a3f7-7879779011c6"
      },
      "execution_count": null,
      "outputs": [
        {
          "output_type": "execute_result",
          "data": {
            "text/plain": [
              "3.7416573867739413"
            ]
          },
          "metadata": {},
          "execution_count": 6
        }
      ]
    },
    {
      "cell_type": "markdown",
      "source": [
        "Implement Gram Schmidt on 4 vectors"
      ],
      "metadata": {
        "id": "ixXrh3bI4WAh"
      }
    },
    {
      "cell_type": "code",
      "source": [
        "r1=np.array([3,0,3,0])\n",
        "r2=np.array([3,2,3,3])\n",
        "r3=np.array([-7,-4,-5,-6])\n",
        "r4=np.array([-7,-3,-11,2])"
      ],
      "metadata": {
        "id": "w7GiV4pi4OCf"
      },
      "execution_count": null,
      "outputs": []
    },
    {
      "cell_type": "code",
      "source": [
        "print(\"The first random vector is:\", r1)"
      ],
      "metadata": {
        "colab": {
          "base_uri": "https://localhost:8080/"
        },
        "id": "_D4bkF735o4s",
        "outputId": "e8f8efbf-5b4a-410a-fc0c-5cd695fa5f80"
      },
      "execution_count": null,
      "outputs": [
        {
          "output_type": "stream",
          "name": "stdout",
          "text": [
            "The first random vector is: [3 0 3 0]\n"
          ]
        }
      ]
    },
    {
      "cell_type": "markdown",
      "source": [
        "#Process $r_1$\n"
      ],
      "metadata": {
        "id": "Bo4MJpcd7aOp"
      }
    },
    {
      "cell_type": "code",
      "source": [
        "#Choose the r1 vector and subtract off the \"Nice\" orthogonal peces:\n",
        "t1=r1\n",
        "print(\"t1=\", t1)\n",
        "\n",
        "#Find the size of t1:\n",
        "m=np.sqrt(t1.dot(t1))\n",
        "print(\"The size of t1 is\", m)\n",
        "\n",
        "#The nice vector is u1=t1/m:\n",
        "u1=(1/m)*t1\n",
        "print(\"The nice vector is u1=\", u1)"
      ],
      "metadata": {
        "colab": {
          "base_uri": "https://localhost:8080/"
        },
        "id": "bwH18PId5uy2",
        "outputId": "94213b4d-2261-4482-c8dd-6758543badb3"
      },
      "execution_count": null,
      "outputs": [
        {
          "output_type": "stream",
          "name": "stdout",
          "text": [
            "t1= [3 0 3 0]\n",
            "The size of t1 is 4.242640687119285\n",
            "The nice vector is u1= [0.70710678 0.         0.70710678 0.        ]\n"
          ]
        }
      ]
    },
    {
      "cell_type": "code",
      "source": [
        "#Sanity check:\n",
        "print(\"The size of u1=\", np.sqrt(u1.dot(u1)))"
      ],
      "metadata": {
        "colab": {
          "base_uri": "https://localhost:8080/"
        },
        "id": "95nQ_ffH7Guo",
        "outputId": "bb56e3aa-d6a2-4be8-e009-5f0ba8e354f4"
      },
      "execution_count": null,
      "outputs": [
        {
          "output_type": "stream",
          "name": "stdout",
          "text": [
            "The size of u1= 1.0\n"
          ]
        }
      ]
    },
    {
      "cell_type": "markdown",
      "source": [
        "# Process $r_2$\n"
      ],
      "metadata": {
        "id": "ySIOysMF7fEF"
      }
    },
    {
      "cell_type": "code",
      "source": [
        "#Choose the r2 vector and subtract off the \"Nice\" orthogonal peces:\n",
        "t2=r2-r2.dot(u1)*u1\n",
        "print(\"t2=\", t2)\n",
        "\n",
        "#Find the size of t2:\n",
        "m=np.sqrt(t2.dot(t2))\n",
        "print(\"The size of t2 is\", m)\n",
        "\n",
        "#The nice vector is u1=t2/m:\n",
        "u2=(1/m)*t2\n",
        "print(\"The nice vector is u2=\", u2)"
      ],
      "metadata": {
        "colab": {
          "base_uri": "https://localhost:8080/"
        },
        "id": "SG617jP47nsX",
        "outputId": "fca802ac-dfc0-4b40-f67b-c5ae8a4281de"
      },
      "execution_count": null,
      "outputs": [
        {
          "output_type": "stream",
          "name": "stdout",
          "text": [
            "t2= [-4.4408921e-16  2.0000000e+00 -4.4408921e-16  3.0000000e+00]\n",
            "The size of t2 is 3.605551275463989\n",
            "The nice vector is u2= [-1.23168186e-16  5.54700196e-01 -1.23168186e-16  8.32050294e-01]\n"
          ]
        }
      ]
    },
    {
      "cell_type": "code",
      "source": [
        "#Sanity check:\n",
        "print(\"The size of u1=\", np.sqrt(u1.dot(u1)))\n",
        "print(\"The size of u2=\", np.sqrt(u2.dot(u2)))\n",
        "\n",
        "print(\"u1 . u2=\", u1.dot(u2))"
      ],
      "metadata": {
        "colab": {
          "base_uri": "https://localhost:8080/"
        },
        "id": "7UwlX9ay8gHX",
        "outputId": "dfb7f3c0-10c9-4dd3-8003-90cf9097fba8"
      },
      "execution_count": null,
      "outputs": [
        {
          "output_type": "stream",
          "name": "stdout",
          "text": [
            "The size of u1= 1.0\n",
            "The size of u2= 1.0\n",
            "u1 . u2= -1.741861189847285e-16\n"
          ]
        }
      ]
    },
    {
      "cell_type": "markdown",
      "source": [
        "#Process $r_3$"
      ],
      "metadata": {
        "id": "ndWSI1_q8cH3"
      }
    },
    {
      "cell_type": "code",
      "source": [
        "#Choose the r3 vector and subtract off the \"Nice\" orthogonal peces:\n",
        "t3=r3-r3.dot(u1)*u1-r3.dot(u2)*u2\n",
        "print(\"t3=\", t3)\n",
        "\n",
        "#Find the size of t3:\n",
        "m=np.sqrt(t3.dot(t3))\n",
        "print(\"The size of t3 is\", m)\n",
        "\n",
        "#The nice vector is u3=t3/m:\n",
        "u3=(1/m)*t3\n",
        "print(\"The nice vector is u3=\", u3)"
      ],
      "metadata": {
        "colab": {
          "base_uri": "https://localhost:8080/"
        },
        "id": "kknWAF838on8",
        "outputId": "300deea4-5462-4191-c267-d9728c66bcc0"
      },
      "execution_count": null,
      "outputs": [
        {
          "output_type": "stream",
          "name": "stdout",
          "text": [
            "t3= [-1.0000000e+00 -4.4408921e-16  1.0000000e+00 -8.8817842e-16]\n",
            "The size of t3 is 1.4142135623730951\n",
            "The nice vector is u3= [-7.07106781e-01 -3.14018492e-16  7.07106781e-01 -6.28036983e-16]\n"
          ]
        }
      ]
    },
    {
      "cell_type": "code",
      "source": [
        "#Sanity check:\n",
        "print(\"The size of u1=\", np.sqrt(u1.dot(u1)))\n",
        "print(\"The size of u2=\", np.sqrt(u2.dot(u2)))\n",
        "print(\"The size of u3=\", np.sqrt(u3.dot(u3)))\n",
        "\n",
        "print(\"u1 . u2=\", u1.dot(u2))\n",
        "print(\"u1 . u3=\", u1.dot(u3))"
      ],
      "metadata": {
        "colab": {
          "base_uri": "https://localhost:8080/"
        },
        "id": "_dZQTOaK9L0x",
        "outputId": "71d2cafb-2a2e-4e36-aace-ce8f23bcfb4f"
      },
      "execution_count": null,
      "outputs": [
        {
          "output_type": "stream",
          "name": "stdout",
          "text": [
            "The size of u1= 1.0\n",
            "The size of u2= 1.0\n",
            "The size of u3= 0.9999999999999999\n",
            "u1 . u2= -1.741861189847285e-16\n",
            "u1 . u3= 0.0\n"
          ]
        }
      ]
    },
    {
      "cell_type": "markdown",
      "source": [
        "#Process $r_4$"
      ],
      "metadata": {
        "id": "CD6JKVcL9axz"
      }
    },
    {
      "cell_type": "code",
      "source": [
        "#Choose the r4 vector and subtract off the \"Nice\" orthogonal peces:\n",
        "t4=r4-r4.dot(u1)*u1-r4.dot(u2)*u2-r4.dot(u3)*u3\n",
        "print(\"t4=\", t4)\n",
        "\n",
        "#Find the size of t4:\n",
        "m=np.sqrt(t4.dot(t4))\n",
        "print(\"The size of t4 is\", m)\n",
        "\n",
        "#The nice vector is u4=t4/m:\n",
        "u4=(1/m)*t4\n",
        "print(\"The nice vector is u4=\", u4)"
      ],
      "metadata": {
        "colab": {
          "base_uri": "https://localhost:8080/"
        },
        "id": "r2t2jWDu9fp3",
        "outputId": "f355c273-ba66-4862-bf55-803a2322f848"
      },
      "execution_count": null,
      "outputs": [
        {
          "output_type": "stream",
          "name": "stdout",
          "text": [
            "t4= [ 0. -3.  0.  2.]\n",
            "The size of t4 is 3.605551275463989\n",
            "The nice vector is u4= [ 0.         -0.83205029  0.          0.5547002 ]\n"
          ]
        }
      ]
    },
    {
      "cell_type": "code",
      "source": [
        "#Sanity check:\n",
        "print(\"The size of u1=\", np.sqrt(u1.dot(u1)))\n",
        "print(\"The size of u2=\", np.sqrt(u2.dot(u2)))\n",
        "print(\"The size of u3=\", np.sqrt(u3.dot(u3)))\n",
        "print(\"The size of u4=\", np.sqrt(u4.dot(u4)))\n",
        "\n",
        "print(\"u1 . u2=\", u1.dot(u2))\n",
        "print(\"u1 . u3=\", u1.dot(u3))\n",
        "print(\"u1 . u4=\", u1.dot(u4))"
      ],
      "metadata": {
        "colab": {
          "base_uri": "https://localhost:8080/"
        },
        "id": "Gs5vnnZc99Ct",
        "outputId": "8b5ab50c-df50-49f0-b34c-034970140e43"
      },
      "execution_count": null,
      "outputs": [
        {
          "output_type": "stream",
          "name": "stdout",
          "text": [
            "The size of u1= 1.0\n",
            "The size of u2= 1.0\n",
            "The size of u3= 0.9999999999999999\n",
            "The size of u4= 1.0\n",
            "u1 . u2= -1.741861189847285e-16\n",
            "u1 . u3= 0.0\n",
            "u1 . u4= 0.0\n"
          ]
        }
      ]
    },
    {
      "cell_type": "markdown",
      "source": [
        "#Write $r_1$, $r_2$, $r_3$, and $r_4$ in terms of $u_1$, $u_2$, $u_3$, and $u_4$"
      ],
      "metadata": {
        "id": "NOZ94bT9-QZ3"
      }
    },
    {
      "cell_type": "code",
      "source": [
        "r1=np.array([3,0,3,0])\n",
        "r2=np.array([3,2,3,3])\n",
        "r3=np.array([-7,-4,-5,-6])\n",
        "r4=np.array([-7,-3,-11,2])\n",
        "\n",
        "print(\"r1=\", r1.dot(u1), \"u1 +\", r1.dot(u2), \"u2 +\", r1.dot(u3), \"u3 +\", r1.dot(u4), \"u4\")\n",
        "print(\"r2=\", r2.dot(u1), \"u1 +\", r2.dot(u2), \"u2 +\", r2.dot(u3), \"u3 +\", r2.dot(u4), \"u4\")\n",
        "print(\"r3=\", r3.dot(u1), \"u1 +\", r3.dot(u2), \"u2 +\", r3.dot(u3), \"u3 +\", r3.dot(u4), \"u4\")\n",
        "print(\"r4=\", r4.dot(u1), \"u1 +\", r4.dot(u2), \"u2 +\", r4.dot(u3), \"u3 +\", r4.dot(u4), \"u4\")"
      ],
      "metadata": {
        "colab": {
          "base_uri": "https://localhost:8080/"
        },
        "id": "SOTs6Q7D-zWk",
        "outputId": "72152f92-5231-4793-b239-33e93593946f"
      },
      "execution_count": null,
      "outputs": [
        {
          "output_type": "stream",
          "name": "stdout",
          "text": [
            "r1= 4.24264068 u1 + -7.390091159999999e-16 u2 + 0.0 u3 + 0.0 u4\n",
            "r2= 4.24264068 u1 + 3.605551273999999 u2 + -2.3282001588500627e-15 u3 + 1.999999987845058e-08 u4\n",
            "r3= -8.48528136 u1 + -7.211102547999998 u2 + 1.4142135620000043 u3 + -3.999999975690116e-08 u4\n",
            "r4= -12.727922040000001 u1 + 2.220446049250313e-15 u2 + -2.8284271240000005 u3 + 3.6055512700000003 u4\n"
          ]
        }
      ]
    }
  ]
}